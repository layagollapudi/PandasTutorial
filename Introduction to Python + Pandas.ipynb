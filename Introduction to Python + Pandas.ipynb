{
 "cells": [
  {
   "cell_type": "markdown",
   "metadata": {},
   "source": [
    "# Introduction to Pandas\n",
    "\n",
    "\n",
    "Now that you guys are Python masters, we are going to move straight into learning more about how to use a specific Python library that is super popular and used by data scientists and analysts around the world. \n",
    "\n",
    "### What is it (a high-level overview)?\n",
    "\n",
    "You can probably guess what it's called by the title (HINT: It's called Pandas.). Pandas is powerful because it allows you to work with data without having to write a bunch of conditionals / loops like you guys learned about earlier. Instead, Pandas relies on reading data input into objects that are easier to deal with!\n",
    "\n",
    "Some of the features of Pandas in an overview include:\n",
    "\n",
    "* Types of labeled arrays, main ones being Series/TimeSeries (1-dim arrays) and DataFrame (2-dim arrays)\n",
    "* Index objects allowing for single and multi-axes indexing\n",
    "* Ability to append and transform datasets / data input fairly easily\n",
    "* Date range generation and custom date offsets\n",
    "* Input/Output tools: loading data from CSVs or other flat files and loading into tabular objects called PyTables\n",
    "* Rolling mean, rolling standard deviation, etc. with changing inputs\n",
    "* Static and Rolling regression + analysis\n",
    "\n",
    "## Let's get started!\n",
    "<img src=\"https://cdn-images-1.medium.com/max/1200/1*tiFm2E0nCXp4Bc1Rk8OhdA.jpeg\" width=\"300\" heigh=\"300\">\n"
   ]
  },
  {
   "cell_type": "markdown",
   "metadata": {},
   "source": [
    "## Imports\n",
    "\n",
    "We're gonna get started with importing necessary libraries so we can actually practice using the Pandas library. The others to import include NumPy and MatPlotLib - [NumPy](http://www.numpy.org/) is a Python Library and is used here for it's powerful and easy-to-do-matrix-math-with array objects, while [MatPlotLib](https://matplotlib.org/) is used to visualize our data, natural and / or modified. You can click on the links to learn more about them, but we're not gonna go into details for now.  "
   ]
  },
  {
   "cell_type": "code",
   "execution_count": null,
   "metadata": {},
   "outputs": [],
   "source": [
    "import pandas as pd\n",
    "import numpy as np\n",
    "import matplotlib.pyplot as plt"
   ]
  },
  {
   "cell_type": "markdown",
   "metadata": {},
   "source": [
    "## Data Structure Introduction"
   ]
  },
  {
   "cell_type": "markdown",
   "metadata": {},
   "source": [
    "### Series - object \"wrapper\" of sorts for a 1D array"
   ]
  },
  {
   "cell_type": "code",
   "execution_count": null,
   "metadata": {},
   "outputs": [],
   "source": [
    "series = pd.Series([1.0, 3.0, 5.0, 7.0, 9.0])\n",
    "series"
   ]
  },
  {
   "cell_type": "code",
   "execution_count": null,
   "metadata": {},
   "outputs": [],
   "source": [
    "series[2] #Indexing as we do a typical list / array in vanilla python"
   ]
  },
  {
   "cell_type": "code",
   "execution_count": null,
   "metadata": {},
   "outputs": [],
   "source": [
    "series = pd.Series(np.arange(4), index=['one','two','three','four']) # can have values and indeces as well...\n",
    "series.values"
   ]
  },
  {
   "cell_type": "code",
   "execution_count": null,
   "metadata": {},
   "outputs": [],
   "source": [
    "series.index "
   ]
  },
  {
   "cell_type": "code",
   "execution_count": null,
   "metadata": {},
   "outputs": [],
   "source": [
    "series = pd.Series({'one':1,'two':2,'three':3,'four':4}) #... like a dictionary!\n",
    "series.values"
   ]
  },
  {
   "cell_type": "code",
   "execution_count": null,
   "metadata": {},
   "outputs": [],
   "source": [
    "series.index"
   ]
  },
  {
   "cell_type": "markdown",
   "metadata": {},
   "source": [
    "### DataFrame - object \"wrapper\" of sorts for a 2D array"
   ]
  },
  {
   "cell_type": "code",
   "execution_count": null,
   "metadata": {},
   "outputs": [],
   "source": [
    "df = pd.DataFrame({'country': ['Belgium', 'France', 'Germany', 'Netherlands', 'United Kingdom'],\n",
    "        'population': [11.3, 64.3, 81.3, 16.9, 64.9],\n",
    "        'area': [30510, 671308, 357050, 41526, 244820],\n",
    "        'capital': ['Brussels', 'Paris', 'Berlin', 'Amsterdam', 'London']})"
   ]
  },
  {
   "cell_type": "code",
   "execution_count": null,
   "metadata": {},
   "outputs": [],
   "source": [
    "df_area = df['area'] #accessing like before...\n",
    "df_area"
   ]
  },
  {
   "cell_type": "code",
   "execution_count": null,
   "metadata": {},
   "outputs": [],
   "source": [
    "df.info() #giving us some information..."
   ]
  },
  {
   "cell_type": "code",
   "execution_count": null,
   "metadata": {},
   "outputs": [],
   "source": [
    "df[\"population per area in millions\"] = df['population'] / df['area'] #You can create new columns\n",
    "df[\"population per area in millions\"]"
   ]
  },
  {
   "cell_type": "code",
   "execution_count": null,
   "metadata": {},
   "outputs": [],
   "source": [
    "#QUESTION: What if we wanted to get a series from a DataFrame?"
   ]
  },
  {
   "cell_type": "markdown",
   "metadata": {},
   "source": [
    "## Inputting Data\n",
    "\n",
    "As mentioned earlier, we are able to input data from various sources - one type of file is the CSV file.\n",
    "Let's read in a CSV file containing data about different airlines into a DataFrame - we'll talk more about what that means later."
   ]
  },
  {
   "cell_type": "code",
   "execution_count": null,
   "metadata": {},
   "outputs": [],
   "source": [
    "#airlines_df = pd.read_csv('airlines.csv')\n",
    "\n",
    "#Go to https://think.cs.vt.edu/corgis/python/airlines/airlines.html \n",
    "#and download the csv file to you Drive before you start this\n",
    "\n",
    "from google.colab import drive \n",
    "drive.mount('/content/gdrive')"
   ]
  },
  {
   "cell_type": "code",
   "execution_count": null,
   "metadata": {},
   "outputs": [],
   "source": [
    "airlines_df = pd.read_csv('gdrive/My Drive/airlines.csv')\n",
    "airlines_df"
   ]
  },
  {
   "cell_type": "markdown",
   "metadata": {},
   "source": [
    "## Data Overview\n",
    "\n",
    "We can get an overview of the dataset statistics, using built in methods as described (and available to you to try out) below..."
   ]
  },
  {
   "cell_type": "code",
   "execution_count": null,
   "metadata": {},
   "outputs": [],
   "source": [
    "print(\"head(num_rows): Printing first 5 rows of dataset...\")\n",
    "airlines_df.head() #5 is default"
   ]
  },
  {
   "cell_type": "code",
   "execution_count": null,
   "metadata": {},
   "outputs": [],
   "source": [
    "print(\"tail(num_rows): Printing last 3 rows of dataset...\")\n",
    "airlines_df.tail(3)"
   ]
  },
  {
   "cell_type": "code",
   "execution_count": null,
   "metadata": {},
   "outputs": [],
   "source": [
    "print(\"describe(): A statistical summary of the dataset...\")\n",
    "airlines_df.describe()"
   ]
  },
  {
   "cell_type": "code",
   "execution_count": null,
   "metadata": {},
   "outputs": [],
   "source": [
    "print(\"columns: lists the columns within the dataset...\")\n",
    "airlines_df.columns"
   ]
  },
  {
   "cell_type": "code",
   "execution_count": null,
   "metadata": {},
   "outputs": [],
   "source": [
    "print(\"index: lists the indices of the dataset...\")\n",
    "airlines_df.index"
   ]
  },
  {
   "cell_type": "markdown",
   "metadata": {},
   "source": [
    "## Data Selection / \"Slicing\"\n",
    "\n",
    "If we wanted to look at a subset of our dataset, persay only certain columns or a few rows or some combination of the two, we are able to easily look at some specific \"slice\" of our dataset using what was taught before about array accessing and slicing (if you don't remember, don't worry! Comments below will give brief but informative explanations of what is going on.)\n",
    "\n",
    "### Rows"
   ]
  },
  {
   "cell_type": "code",
   "execution_count": null,
   "metadata": {
    "scrolled": true
   },
   "outputs": [],
   "source": [
    "airlines_df[2:5] #slice taking rows 2 through 5-1 (=4)"
   ]
  },
  {
   "cell_type": "code",
   "execution_count": null,
   "metadata": {},
   "outputs": [],
   "source": [
    "airlines_df[6:] #slice taking rows 6 through end (4407, to be exact)"
   ]
  },
  {
   "cell_type": "markdown",
   "metadata": {},
   "source": [
    "##### Rows - by location"
   ]
  },
  {
   "cell_type": "code",
   "execution_count": null,
   "metadata": {
    "scrolled": true
   },
   "outputs": [],
   "source": [
    "airlines_df.iloc[[2:5,7:]] #What do you think this means? Hint - we are accessing specific rows, not ranges."
   ]
  },
  {
   "cell_type": "code",
   "execution_count": null,
   "metadata": {},
   "outputs": [],
   "source": [
    "airlines_df.iloc[[2,5,9]] #What do you think this means? Hint - we are accessing specific rows, not ranges."
   ]
  },
  {
   "cell_type": "markdown",
   "metadata": {},
   "source": [
    "### Columns"
   ]
  },
  {
   "cell_type": "code",
   "execution_count": null,
   "metadata": {},
   "outputs": [],
   "source": [
    "airlines_df['# of Delays.Late Aircraft'] #slice taking column '# of Delays.Late Aircraft'"
   ]
  },
  {
   "cell_type": "markdown",
   "metadata": {},
   "source": [
    "##### Multiple columns by label"
   ]
  },
  {
   "cell_type": "code",
   "execution_count": null,
   "metadata": {},
   "outputs": [],
   "source": [
    "airlines_df.loc[:,['# of Delays.Late Aircraft','Month Name']]"
   ]
  },
  {
   "cell_type": "code",
   "execution_count": null,
   "metadata": {},
   "outputs": [],
   "source": [
    "#Write your own in here!!"
   ]
  },
  {
   "cell_type": "markdown",
   "metadata": {},
   "source": [
    "### Boolean / Where"
   ]
  },
  {
   "cell_type": "code",
   "execution_count": null,
   "metadata": {
    "scrolled": true
   },
   "outputs": [],
   "source": [
    "#Using Where\n",
    "air_df_sub = airlines_df.where(airlines_df['# of Delays.Late Aircraft'] > 100)\n",
    "air_df_sub"
   ]
  },
  {
   "cell_type": "markdown",
   "metadata": {},
   "source": [
    "## Setting Values / Editing Set"
   ]
  },
  {
   "cell_type": "code",
   "execution_count": null,
   "metadata": {},
   "outputs": [],
   "source": [
    "# Entire Column\n",
    "airlines_df['# of Delays.Late Aircraft'] = 500\n",
    "airlines_df['# of Delays.Late Aircraft']"
   ]
  },
  {
   "cell_type": "code",
   "execution_count": null,
   "metadata": {},
   "outputs": [],
   "source": [
    "# Renaming columns\n",
    "airlines_df.rename(columns={\"# of Delays.Late Aircraft\": \"DelayNumber\"})\n",
    "airlines_df"
   ]
  },
  {
   "cell_type": "code",
   "execution_count": null,
   "metadata": {},
   "outputs": [],
   "source": [
    "# Create a new dataframe from columns\n",
    "col1 = \"Cancelled\"\n",
    "col2 = \"Name\"\n",
    "airlines_new_df = airlines_df[[col1, col2]]\n",
    "airlines_new_df"
   ]
  },
  {
   "cell_type": "markdown",
   "metadata": {},
   "source": [
    "## Data Visualization"
   ]
  },
  {
   "cell_type": "markdown",
   "metadata": {},
   "source": [
    "We can use Matplotlib, a data visual library to help with plotting!\n",
    "\n",
    "For more information:\n",
    "https://pandas.pydata.org/pandas-docs/stable/reference/api/pandas.DataFrame.plot.html --- Check out the documentation here!\n",
    "\n",
    "These are some general examples ... How would you do this for the existent values from airlines?"
   ]
  },
  {
   "cell_type": "code",
   "execution_count": null,
   "metadata": {},
   "outputs": [],
   "source": [
    "# Plotting Lines\n",
    "values = [[1, 2], [2, 5]]\n",
    "df_example = pd.DataFrame(values, columns=['Type A', 'Type B'], \n",
    "                   index=['Index 1', 'Index 2'])\n",
    "df_example.plot(lw=2, colormap='jet', marker='.', markersize=10, \n",
    "         title='Video streaming dropout by category')"
   ]
  },
  {
   "cell_type": "code",
   "execution_count": null,
   "metadata": {},
   "outputs": [],
   "source": [
    "#Run a Scatter Plot on the Data Frame\n",
    "df = pd.DataFrame([[5.1, 3.5, 0], [4.9, 3.0, 0], [7.0, 3.2, 1],[6.4, 3.2, 1], [5.9, 3.0, 2]],columns=['length', 'width', 'species'])\n",
    "df.plot.scatter(x='length',y='width',c='DarkBlue')"
   ]
  },
  {
   "cell_type": "code",
   "execution_count": null,
   "metadata": {},
   "outputs": [],
   "source": [
    "#Run a Bar Plot \n",
    "df2 = pd.DataFrame(np.random.rand(10, 4), columns=['a', 'b', 'c', 'd'])\n",
    "df2.plot.bar();"
   ]
  },
  {
   "cell_type": "code",
   "execution_count": null,
   "metadata": {},
   "outputs": [],
   "source": [
    "df2.plot.bar(stacked=True)"
   ]
  },
  {
   "cell_type": "code",
   "execution_count": null,
   "metadata": {},
   "outputs": [],
   "source": [
    "# CHALLENGE - how about for the airlines dataset? what are some things that we could plot?"
   ]
  },
  {
   "cell_type": "markdown",
   "metadata": {},
   "source": [
    "## NOTES\n",
    "\n",
    "This was a very brief \"introduction\" to Pandas, and the best way to learn is through practice! So here are some resources to look at!\n",
    "\n",
    "https://pandas.pydata.org/pandas-docs/stable/getting_started/tutorials.html -- General tutorials\n",
    "\n",
    "https://pandas.pydata.org/pandas-docs/stable/reference/api/pandas.DataFrame.plot.html -- More information on Plotting\n",
    "\n",
    "https://www.dataquest.io/blog/pandas-cheat-sheet/ -- Pandas \"Cheat Sheet\"\n",
    "\n",
    "https://pandas.pydata.org/pandas-docs/stable/user_guide/visualization.html -- Visualizations\n",
    "\n"
   ]
  },
  {
   "cell_type": "markdown",
   "metadata": {},
   "source": [
    "### Extra: Linear Regression"
   ]
  },
  {
   "cell_type": "markdown",
   "metadata": {},
   "source": []
  }
 ],
 "metadata": {
  "kernelspec": {
   "display_name": "Python 3",
   "language": "python",
   "name": "python3"
  },
  "language_info": {
   "codemirror_mode": {
    "name": "ipython",
    "version": 3
   },
   "file_extension": ".py",
   "mimetype": "text/x-python",
   "name": "python",
   "nbconvert_exporter": "python",
   "pygments_lexer": "ipython3",
   "version": "3.7.1"
  }
 },
 "nbformat": 4,
 "nbformat_minor": 2
}
