{
 "cells": [
  {
   "cell_type": "markdown",
   "metadata": {},
   "source": [
    "# Introduction to Python\n",
    "\n",
    "Today we will be learning Python and Pandas so you can use them for data science and data visualization projects. We're going to start with a quick introduction to programming and Python fundamentals. Follow along below with some examples and  then try out the tasks on your own. We're going to start with some basics while everyone is setting up and then we'll move onto harder material.\n",
    "\n",
    "Play around a bit with the arithmetic operations and print statements below then we'll continue as a group onto the fundamentals. Each box in Jupyter Notebook is called a cell. You can run the cell by clicking in it and pressing the \"run\" button above or pressing CTRL-ENTER.\n",
    "\n",
    "## Arithmetic operations\n",
    "You can type directly into python to run math operations."
   ]
  },
  {
   "cell_type": "code",
   "execution_count": 1,
   "metadata": {},
   "outputs": [
    {
     "data": {
      "text/plain": [
       "235"
      ]
     },
     "execution_count": 1,
     "metadata": {},
     "output_type": "execute_result"
    }
   ],
   "source": [
    "211+24 # addition"
   ]
  },
  {
   "cell_type": "code",
   "execution_count": 2,
   "metadata": {},
   "outputs": [
    {
     "data": {
      "text/plain": [
       "16"
      ]
     },
     "execution_count": 2,
     "metadata": {},
     "output_type": "execute_result"
    }
   ],
   "source": [
    "2*8 # multiplication"
   ]
  },
  {
   "cell_type": "code",
   "execution_count": 3,
   "metadata": {},
   "outputs": [
    {
     "data": {
      "text/plain": [
       "1000"
      ]
     },
     "execution_count": 3,
     "metadata": {},
     "output_type": "execute_result"
    }
   ],
   "source": [
    "10**3 # exponents"
   ]
  },
  {
   "cell_type": "code",
   "execution_count": 4,
   "metadata": {},
   "outputs": [],
   "source": [
    "# Play around with some math operations here\n",
    "\n",
    "\n"
   ]
  },
  {
   "cell_type": "markdown",
   "metadata": {},
   "source": [
    "## Print statements\n",
    "The command to print is below. You can use it to display values of numbers, variables, strings..."
   ]
  },
  {
   "cell_type": "code",
   "execution_count": 5,
   "metadata": {},
   "outputs": [
    {
     "name": "stdout",
     "output_type": "stream",
     "text": [
      "Hello world!\n"
     ]
    }
   ],
   "source": [
    "print(\"Hello world!\") # print string"
   ]
  },
  {
   "cell_type": "code",
   "execution_count": 6,
   "metadata": {},
   "outputs": [
    {
     "name": "stdout",
     "output_type": "stream",
     "text": [
      "235\n",
      "16\n",
      "1000\n"
     ]
    }
   ],
   "source": [
    "print(211+24)\n",
    "print(2*8)\n",
    "print(10**3)"
   ]
  },
  {
   "cell_type": "code",
   "execution_count": 7,
   "metadata": {},
   "outputs": [
    {
     "name": "stdout",
     "output_type": "stream",
     "text": [
      "10\n",
      "50\n"
     ]
    }
   ],
   "source": [
    "x = 10\n",
    "y = 5\n",
    "print(x)\n",
    "print(x*y)"
   ]
  },
  {
   "cell_type": "code",
   "execution_count": 8,
   "metadata": {},
   "outputs": [],
   "source": [
    "# Play around with some print statements here\n",
    "# and wait for us to continue as a group\n"
   ]
  },
  {
   "cell_type": "markdown",
   "metadata": {},
   "source": [
    "## Variables\n",
    "Variables are used to keep track of data. You store data in a variable using the equals sign, so `age = 10` will store the data `10` into the variable called `age`. Then, you can use this variable to do other things without actually knowing what data is stored there. For example, let’s say that a user inputs their age in a form somewhere and this gets stored in the variable `age`. We can do things with the age variable, e.g. `age + 2`, without ever knowing what the user's age is."
   ]
  },
  {
   "cell_type": "code",
   "execution_count": 9,
   "metadata": {
    "scrolled": true
   },
   "outputs": [
    {
     "name": "stdout",
     "output_type": "stream",
     "text": [
      "Isha\n",
      "Isha Mehrotra\n",
      "Sophie\n"
     ]
    }
   ],
   "source": [
    "# here's some examples of variables that store strings\n",
    "# when you put something inside of quotes, it's called a string\n",
    "first_name = \"Isha\"\n",
    "last_name = \"Mehrotra\"\n",
    "print(first_name)\n",
    "print(first_name + \" \" + last_name) # you can add strings to combine them\n",
    "first_name = \"Sophie\"\n",
    "print(first_name)"
   ]
  },
  {
   "cell_type": "code",
   "execution_count": 10,
   "metadata": {},
   "outputs": [
    {
     "name": "stdout",
     "output_type": "stream",
     "text": [
      "12\n",
      "13\n"
     ]
    }
   ],
   "source": [
    "# here's some examples of variables that store integers\n",
    "age = 10\n",
    "age = age + 2\n",
    "print(age)\n",
    "print(age + 1)\n"
   ]
  },
  {
   "cell_type": "markdown",
   "metadata": {},
   "source": [
    "### Challenge Tasks\n",
    "Complete the following tasks on your own."
   ]
  },
  {
   "cell_type": "code",
   "execution_count": 11,
   "metadata": {},
   "outputs": [],
   "source": [
    "# 1) Store something in a variable and print it out, then change it to something else and print it again.\n",
    "\n"
   ]
  },
  {
   "cell_type": "code",
   "execution_count": 12,
   "metadata": {},
   "outputs": [],
   "source": [
    "# 2) Store a number in a variable called record_id. Now divide it by 2.What happens?\n"
   ]
  },
  {
   "cell_type": "code",
   "execution_count": 13,
   "metadata": {},
   "outputs": [],
   "source": [
    "# 3) Make a variable called record_id and store a string in it. \n",
    "#    Try adding 2 to the variable. What happens? Why?\n",
    "\n"
   ]
  },
  {
   "cell_type": "code",
   "execution_count": 14,
   "metadata": {},
   "outputs": [],
   "source": [
    "# 4) Now store a number in record_id and add 2 to it. What happens this time?\n",
    "\n"
   ]
  },
  {
   "cell_type": "markdown",
   "metadata": {
    "collapsed": true
   },
   "source": [
    "## Conditionals\n",
    "Now we know how to store data in a variable. But what can we do with this data? \n",
    "\n",
    "We have an `age` variable that stores someone’s age. Let’s say we want to find out what age range a person's age falls in. We can write a program that correctly prints out `“User is 18 or over!”` or `“User is between age 13 and 18!”` or `“User is under age 13!”`:"
   ]
  },
  {
   "cell_type": "code",
   "execution_count": 19,
   "metadata": {},
   "outputs": [
    {
     "name": "stdout",
     "output_type": "stream",
     "text": [
      "User is 18 or over!\n"
     ]
    }
   ],
   "source": [
    "# try setting age to a different number\n",
    "age = 19\n",
    "if (age >= 18): #18 or over\n",
    "    print(\"User is 18 or over!\")\n",
    "elif (age >= 13): #between 13 and 18\n",
    "    print(\"User is between age 13 and 18!\")\n",
    "else: #under 13\n",
    "    print(\"User is under age 13!\")"
   ]
  },
  {
   "cell_type": "markdown",
   "metadata": {},
   "source": [
    "This code uses a Conditional Statement to print out the correct message. This Conditional Statement has 3 branches:\n",
    "\n",
    "1) `if (age >= 18)`: If this condition is true, the code in the next line will be run and the rest of the branches are ignored. If this condition is false, the code will not run and we move on to the next branch.\n",
    "\n",
    "2) `elif (age >= 13)`: The elif stands for \"else if\". The computer will only check this condition if the previous one (or previous ones) weren’t true. Note that we aren't checking if `age < 18` here, although we could. This is because we won't even get to this branch if `age >= 18`. Once again, if the part in parentheses is true, the code that is indented under the “elif” line will run, otherwise it won’t.\n",
    "\n",
    "3) `else`: The “else” tells the computer that this is the code that should happen if none of the other conditions were true.\n",
    "\n",
    "We can also do things with conditionals besides printing:\n"
   ]
  },
  {
   "cell_type": "code",
   "execution_count": 38,
   "metadata": {},
   "outputs": [
    {
     "name": "stdout",
     "output_type": "stream",
     "text": [
      "24\n"
     ]
    }
   ],
   "source": [
    "age = 12  #try some other numbers\n",
    "if (age == 12):  # double equals is how we check for equality, use google to find more comparison operators\n",
    "    age = age * 2\n",
    "print(age)"
   ]
  },
  {
   "cell_type": "markdown",
   "metadata": {},
   "source": [
    "### Challenge Tasks"
   ]
  },
  {
   "cell_type": "code",
   "execution_count": 35,
   "metadata": {},
   "outputs": [],
   "source": [
    "# 1) Write code that increments the age variable by 1, but only if first_name is \"Isha\"\n",
    "\n",
    "\n",
    "\n"
   ]
  },
  {
   "cell_type": "code",
   "execution_count": 36,
   "metadata": {},
   "outputs": [],
   "source": [
    "# 2) Copy your code from #1 and add code so that it also increments the age variable by 2, \n",
    "# but only if last_name is \"Mehrotra\" and first_name is NOT \"Isha\"\n",
    "\n",
    "\n",
    "\n"
   ]
  },
  {
   "cell_type": "markdown",
   "metadata": {},
   "source": [
    "## Lists\n",
    "\n",
    "Now that we know a little programming, how do we work with more than one piece of data?\n",
    "\n",
    "The first data structure we will talk about is a list. Lists do exactly what you would expect they would, hold a bunch of information.\n"
   ]
  },
  {
   "cell_type": "code",
   "execution_count": 49,
   "metadata": {},
   "outputs": [],
   "source": [
    "# a list for groceries\n",
    "grocery_list = [\"milk\", \"eggs\", \"bread\"]"
   ]
  },
  {
   "cell_type": "markdown",
   "metadata": {},
   "source": [
    "Notice that we store our list in a variable `grocery_list` just as we stored individual pieces of data.\n",
    "\n",
    "This is how you access an item in a list. Notice that we use 0 to refer to the first item, 1 for the second, etc. Computer scientists have good reason for this that we won't go into right now. These numbers are called **indexes**.\n"
   ]
  },
  {
   "cell_type": "code",
   "execution_count": 53,
   "metadata": {},
   "outputs": [
    {
     "name": "stdout",
     "output_type": "stream",
     "text": [
      "milk\n"
     ]
    }
   ],
   "source": [
    "first_item = grocery_list[0]\n",
    "print(first_item)"
   ]
  },
  {
   "cell_type": "markdown",
   "metadata": {},
   "source": [
    "We can also modify the items in a list using the same syntax:"
   ]
  },
  {
   "cell_type": "code",
   "execution_count": 48,
   "metadata": {},
   "outputs": [
    {
     "name": "stdout",
     "output_type": "stream",
     "text": [
      "['milk', 'eggs', 'cheese']\n"
     ]
    }
   ],
   "source": [
    "grocery_list[2] = \"cheese\"\n",
    "print(grocery_list)"
   ]
  },
  {
   "cell_type": "markdown",
   "metadata": {},
   "source": [
    "We can even modify items that are in a list:"
   ]
  },
  {
   "cell_type": "code",
   "execution_count": 56,
   "metadata": {},
   "outputs": [
    {
     "name": "stdout",
     "output_type": "stream",
     "text": [
      "[1, 2, 4, 4]\n"
     ]
    }
   ],
   "source": [
    "list = [1, 2, 3, 4]\n",
    "list[2] = list[2] + 1 # adding 1 to the value at the 2nd index\n",
    "print(list)"
   ]
  },
  {
   "cell_type": "code",
   "execution_count": 57,
   "metadata": {},
   "outputs": [
    {
     "name": "stdout",
     "output_type": "stream",
     "text": [
      "[6, 2, 4, 4]\n"
     ]
    }
   ],
   "source": [
    "list[0] = list[1] + list[3] # setting the first index to 2 + 4\n",
    "print(list)"
   ]
  },
  {
   "cell_type": "markdown",
   "metadata": {},
   "source": [
    "There are lots of things you can do with lists in python beyond this. For example, you can insert items in to a list, remove items, find out if an item is in a list, and count how many items are in a list. If you don't know how to do something in the challenge tasks below, try googling `python lists ___` to find out the correct syntax for doing these things."
   ]
  },
  {
   "cell_type": "markdown",
   "metadata": {},
   "source": [
    "## Challenge Tasks"
   ]
  },
  {
   "cell_type": "code",
   "execution_count": 54,
   "metadata": {},
   "outputs": [],
   "source": [
    "# 1) Make a list of the first names of a bunch of users\n",
    "\n"
   ]
  },
  {
   "cell_type": "code",
   "execution_count": null,
   "metadata": {},
   "outputs": [],
   "source": [
    "# 2) Change the third item to something else\n",
    "\n"
   ]
  },
  {
   "cell_type": "code",
   "execution_count": null,
   "metadata": {},
   "outputs": [],
   "source": [
    "# 3) Add an item to the end of the list\n",
    "\n"
   ]
  },
  {
   "cell_type": "code",
   "execution_count": null,
   "metadata": {},
   "outputs": [],
   "source": [
    "# 4) Add an item at the second index\n",
    "\n"
   ]
  },
  {
   "cell_type": "code",
   "execution_count": null,
   "metadata": {},
   "outputs": [],
   "source": [
    "# 5) What happens if you try to print out the item at index 1000?\n",
    "\n",
    "\n"
   ]
  },
  {
   "cell_type": "code",
   "execution_count": null,
   "metadata": {},
   "outputs": [],
   "source": [
    "# 6) Find out if \"Sophie\" is in the list and print out an appropriate message\n",
    "# Hint: think back to conditionals, use google\n",
    "\n"
   ]
  },
  {
   "cell_type": "markdown",
   "metadata": {},
   "source": [
    "\n",
    "## Loops\n",
    "\n",
    "What if we want to make the same modification to every item in a list? For example, say we have a list of ages, but a whole year has passed since we collected this data, so we need to increment everyone's age by 1. First let's just try printing out each age:"
   ]
  },
  {
   "cell_type": "code",
   "execution_count": 60,
   "metadata": {},
   "outputs": [
    {
     "name": "stdout",
     "output_type": "stream",
     "text": [
      "12\n",
      "12\n",
      "13\n",
      "18\n",
      "21\n",
      "3\n",
      "7\n"
     ]
    }
   ],
   "source": [
    "ages = [12, 12, 13, 18, 21, 3, 7]\n",
    "for age in ages:\n",
    "    print(age)"
   ]
  },
  {
   "cell_type": "markdown",
   "metadata": {},
   "source": [
    "We are using a loop to go through the list, and in this case we are using a special kind of loop called a \"for\" loop. `for age in ages` tells the computer to do the code underneath for each age in the ages list. The name `age` is arbitrary, we could have picked any name we wanted to call it.\n",
    "\n",
    "Now let's try to actually increment the ages.\n",
    "\n",
    "To update just one item, say the first item, we would do:"
   ]
  },
  {
   "cell_type": "code",
   "execution_count": 62,
   "metadata": {},
   "outputs": [
    {
     "name": "stdout",
     "output_type": "stream",
     "text": [
      "[15, 12, 13, 18, 21, 3, 7]\n",
      "[16, 12, 13, 18, 21, 3, 7]\n"
     ]
    }
   ],
   "source": [
    "ages[0] = ages[0] + 1\n",
    "print(ages)\n",
    "ages[0] += 1   # different way of doing the same thing\n",
    "print(ages)"
   ]
  },
  {
   "cell_type": "markdown",
   "metadata": {},
   "source": [
    "Now, here's a different way of looping through each item in the list and printing it out. See if you can understand what it's doing:"
   ]
  },
  {
   "cell_type": "code",
   "execution_count": 64,
   "metadata": {},
   "outputs": [
    {
     "name": "stdout",
     "output_type": "stream",
     "text": [
      "16\n",
      "12\n",
      "13\n",
      "18\n",
      "21\n",
      "3\n",
      "7\n"
     ]
    }
   ],
   "source": [
    "length = len(ages)\n",
    "for i in range(0, length):\n",
    "    print(ages[i])\n"
   ]
  },
  {
   "cell_type": "markdown",
   "metadata": {},
   "source": [
    "### Challenge Task\n",
    "Now you try to put it all together!"
   ]
  },
  {
   "cell_type": "code",
   "execution_count": 65,
   "metadata": {},
   "outputs": [],
   "source": [
    "# Write code here that increments each age in ages by 1\n",
    "\n",
    "\n"
   ]
  },
  {
   "cell_type": "markdown",
   "metadata": {},
   "source": [
    "## Dictionaries\n",
    "\n",
    "The thing about real life data is that we usually want to keep track of multiple variables together. For this we will use dictionaries. A dictionary is basically a collection of items. Let's create a dictionary to hold all the data for one person."
   ]
  },
  {
   "cell_type": "code",
   "execution_count": 74,
   "metadata": {},
   "outputs": [],
   "source": [
    "person = {\n",
    "    \"first_name\" : \"Isha\",\n",
    "    \"last_name\" : \" Mehrotra\",\n",
    "    \"age\" : 21\n",
    "}"
   ]
  },
  {
   "cell_type": "markdown",
   "metadata": {},
   "source": [
    "The left side has the \"keys\" and the right side the \"values\". Accessing and changing data in a dictionary is similar to lists, but we use the key instead of an index."
   ]
  },
  {
   "cell_type": "code",
   "execution_count": 75,
   "metadata": {},
   "outputs": [
    {
     "name": "stdout",
     "output_type": "stream",
     "text": [
      "Isha\n"
     ]
    }
   ],
   "source": [
    "print(person[\"first_name\"])"
   ]
  },
  {
   "cell_type": "code",
   "execution_count": 76,
   "metadata": {},
   "outputs": [
    {
     "name": "stdout",
     "output_type": "stream",
     "text": [
      "Sophie\n"
     ]
    }
   ],
   "source": [
    "person[\"first_name\"] = \"Sophie\"\n",
    "print(person[\"first_name\"])"
   ]
  },
  {
   "cell_type": "markdown",
   "metadata": {},
   "source": [
    "We can also loop through dictionaries:"
   ]
  },
  {
   "cell_type": "code",
   "execution_count": 79,
   "metadata": {},
   "outputs": [
    {
     "name": "stdout",
     "output_type": "stream",
     "text": [
      "first_name Sophie\n",
      "last_name  Mehrotra\n",
      "age 21\n"
     ]
    }
   ],
   "source": [
    "for key in person:\n",
    "    print(key, person[key]) # print out the key and then the value\n"
   ]
  },
  {
   "cell_type": "markdown",
   "metadata": {},
   "source": [
    "## Challenge Tasks"
   ]
  },
  {
   "cell_type": "code",
   "execution_count": null,
   "metadata": {},
   "outputs": [],
   "source": [
    "# 1) "
   ]
  }
 ],
 "metadata": {
  "kernelspec": {
   "display_name": "Python 3",
   "language": "python",
   "name": "python3"
  },
  "language_info": {
   "codemirror_mode": {
    "name": "ipython",
    "version": 3
   },
   "file_extension": ".py",
   "mimetype": "text/x-python",
   "name": "python",
   "nbconvert_exporter": "python",
   "pygments_lexer": "ipython3",
   "version": "3.7.1"
  }
 },
 "nbformat": 4,
 "nbformat_minor": 2
}
