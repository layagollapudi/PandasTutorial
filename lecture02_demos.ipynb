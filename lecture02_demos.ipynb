{
 "cells": [
  {
   "cell_type": "code",
   "execution_count": 2,
   "metadata": {},
   "outputs": [],
   "source": [
    "# HIDDEN\n",
    "from datascience import *\n",
    "import numpy as np\n",
    "%matplotlib inline\n",
    "import matplotlib.pyplot as plots\n",
    "plots.style.use('fivethirtyeight')\n",
    "\n",
    "import pandas as pd"
   ]
  },
  {
   "cell_type": "code",
   "execution_count": 32,
   "metadata": {},
   "outputs": [],
   "source": [
    "def standard_units(x):\n",
    "    \"Convert any array of numbers to standard units.\"\n",
    "    return (x - np.average(x))/np.std(x,ddof=1)  \n",
    "\n",
    "def correlation(x, y):\n",
    "    x_in_standard_units = standard_units(x)\n",
    "    y_in_standard_units = standard_units(y)\n",
    "    if len(x)!=len(y):\n",
    "        raise ValueError('arrays are of different lengths')\n",
    "    return sum(x_in_standard_units * y_in_standard_units)/(len(x)-1)\n",
    "\n",
    "# This function generates a scatter plot with a correlation approximately r\n",
    "def r_scatter(r):\n",
    "    plots.figure(figsize=(5,5))\n",
    "    x = np.random.normal(0, 1, 1000)\n",
    "    z = np.random.normal(0, 1, 1000)\n",
    "    y = r*x + (np.sqrt(1-r**2))*z\n",
    "    plots.scatter(x, y)\n",
    "    plots.xlim(-4, 4)\n",
    "    plots.ylim(-4, 4)\n",
    "\n"
   ]
  },
  {
   "cell_type": "code",
   "execution_count": 3,
   "metadata": {},
   "outputs": [
    {
     "data": {
      "text/html": [
       "<div>\n",
       "<style scoped>\n",
       "    .dataframe tbody tr th:only-of-type {\n",
       "        vertical-align: middle;\n",
       "    }\n",
       "\n",
       "    .dataframe tbody tr th {\n",
       "        vertical-align: top;\n",
       "    }\n",
       "\n",
       "    .dataframe thead th {\n",
       "        text-align: right;\n",
       "    }\n",
       "</style>\n",
       "<table border=\"1\" class=\"dataframe\">\n",
       "  <thead>\n",
       "    <tr style=\"text-align: right;\">\n",
       "      <th></th>\n",
       "      <th>floor_size</th>\n",
       "      <th>bed_room_count</th>\n",
       "      <th>built_year</th>\n",
       "      <th>sold_date</th>\n",
       "      <th>sold_price</th>\n",
       "      <th>room_count</th>\n",
       "      <th>garage_size</th>\n",
       "      <th>parking_lot</th>\n",
       "    </tr>\n",
       "  </thead>\n",
       "  <tbody>\n",
       "    <tr>\n",
       "      <th>0</th>\n",
       "      <td>2068</td>\n",
       "      <td>3</td>\n",
       "      <td>2003</td>\n",
       "      <td>Aug2015</td>\n",
       "      <td>195500</td>\n",
       "      <td>6</td>\n",
       "      <td>768</td>\n",
       "      <td>3</td>\n",
       "    </tr>\n",
       "    <tr>\n",
       "      <th>1</th>\n",
       "      <td>3372</td>\n",
       "      <td>3</td>\n",
       "      <td>1999</td>\n",
       "      <td>Dec2015</td>\n",
       "      <td>385000</td>\n",
       "      <td>6</td>\n",
       "      <td>480</td>\n",
       "      <td>2</td>\n",
       "    </tr>\n",
       "    <tr>\n",
       "      <th>2</th>\n",
       "      <td>3130</td>\n",
       "      <td>3</td>\n",
       "      <td>1999</td>\n",
       "      <td>Jan2017</td>\n",
       "      <td>188000</td>\n",
       "      <td>7</td>\n",
       "      <td>400</td>\n",
       "      <td>2</td>\n",
       "    </tr>\n",
       "    <tr>\n",
       "      <th>3</th>\n",
       "      <td>3991</td>\n",
       "      <td>3</td>\n",
       "      <td>1999</td>\n",
       "      <td>Nov2014</td>\n",
       "      <td>375000</td>\n",
       "      <td>8</td>\n",
       "      <td>400</td>\n",
       "      <td>2</td>\n",
       "    </tr>\n",
       "    <tr>\n",
       "      <th>4</th>\n",
       "      <td>1450</td>\n",
       "      <td>2</td>\n",
       "      <td>1999</td>\n",
       "      <td>Jan2015</td>\n",
       "      <td>136000</td>\n",
       "      <td>7</td>\n",
       "      <td>200</td>\n",
       "      <td>1</td>\n",
       "    </tr>\n",
       "  </tbody>\n",
       "</table>\n",
       "</div>"
      ],
      "text/plain": [
       "   floor_size  bed_room_count  built_year sold_date  sold_price  room_count  \\\n",
       "0        2068               3        2003   Aug2015      195500           6   \n",
       "1        3372               3        1999   Dec2015      385000           6   \n",
       "2        3130               3        1999   Jan2017      188000           7   \n",
       "3        3991               3        1999   Nov2014      375000           8   \n",
       "4        1450               2        1999   Jan2015      136000           7   \n",
       "\n",
       "   garage_size  parking_lot  \n",
       "0          768            3  \n",
       "1          480            2  \n",
       "2          400            2  \n",
       "3          400            2  \n",
       "4          200            1  "
      ]
     },
     "execution_count": 3,
     "metadata": {},
     "output_type": "execute_result"
    }
   ],
   "source": [
    "housing_df=pd.read_csv(\"Housing.csv\")\n",
    "\n",
    "housing_df.head(5)"
   ]
  },
  {
   "cell_type": "markdown",
   "metadata": {},
   "source": [
    "### Numerical Optimization ###"
   ]
  },
  {
   "cell_type": "code",
   "execution_count": 4,
   "metadata": {
    "scrolled": true
   },
   "outputs": [
    {
     "data": {
      "image/png": "[encoded data removed]",
      "text/plain": [
       "<Figure size 432x288 with 1 Axes>"
      ]
     },
     "metadata": {},
     "output_type": "display_data"
    }
   ],
   "source": [
    "x = np.arange(1, 3, 0.1)\n",
    "y = (x-2)**2 + 3\n",
    "plots.plot(x,y);"
   ]
  },
  {
   "cell_type": "code",
   "execution_count": 5,
   "metadata": {},
   "outputs": [],
   "source": [
    "def f(x):\n",
    "    return ((x-2)**2) + 3"
   ]
  },
  {
   "cell_type": "code",
   "execution_count": 6,
   "metadata": {
    "scrolled": true
   },
   "outputs": [
    {
     "data": {
      "text/plain": [
       "1.9999999946252267"
      ]
     },
     "execution_count": 6,
     "metadata": {},
     "output_type": "execute_result"
    }
   ],
   "source": [
    "minimize(f)"
   ]
  },
  {
   "cell_type": "code",
   "execution_count": null,
   "metadata": {
    "scrolled": true
   },
   "outputs": [],
   "source": [
    "minimize()"
   ]
  },
  {
   "cell_type": "markdown",
   "metadata": {},
   "source": [
    "## Best Line(s) ##\n",
    "\n",
    "Option 1 - least squares (mean squared error):\n",
    "$$MSE=\\frac{1}{n}\\sum e_i^2$$\n",
    "\n",
    "Option 2 - mean absolute errors:\n",
    "$$MAE=\\frac{1}{n}\\sum |e_i|$$\n",
    "\n",
    "Option 3 - remove the largest residual to allow for one outlier (robust squared error)\n",
    "$$RSE=\\sum e_i^2-\\max (e_i^2)$$"
   ]
  },
  {
   "cell_type": "code",
   "execution_count": 8,
   "metadata": {},
   "outputs": [],
   "source": [
    "def housing_mse(any_slope, any_intercept):\n",
    "    x = housing_df['floor_size']\n",
    "    y = housing_df['sold_price']\n",
    "    estimate = any_slope*x + any_intercept\n",
    "    return (np.mean((y - estimate) ** 2)) "
   ]
  },
  {
   "cell_type": "code",
   "execution_count": 9,
   "metadata": {},
   "outputs": [
    {
     "data": {
      "text/plain": [
       "22369781863.207546"
      ]
     },
     "execution_count": 9,
     "metadata": {},
     "output_type": "execute_result"
    }
   ],
   "source": [
    "housing_mse(50,1000)"
   ]
  },
  {
   "cell_type": "code",
   "execution_count": 10,
   "metadata": {},
   "outputs": [
    {
     "data": {
      "text/plain": [
       "4760889900.943397"
      ]
     },
     "execution_count": 10,
     "metadata": {},
     "output_type": "execute_result"
    }
   ],
   "source": [
    "housing_mse(90,10000)"
   ]
  },
  {
   "cell_type": "code",
   "execution_count": 11,
   "metadata": {},
   "outputs": [
    {
     "data": {
      "text/plain": [
       "array([   94.6602687 , 25181.18907815])"
      ]
     },
     "execution_count": 11,
     "metadata": {},
     "output_type": "execute_result"
    }
   ],
   "source": [
    "minimize(housing_mse)"
   ]
  },
  {
   "cell_type": "code",
   "execution_count": 14,
   "metadata": {
    "scrolled": true
   },
   "outputs": [
    {
     "data": {
      "image/png": "[encoded data removed]",
      "text/plain": [
       "<Figure size 432x288 with 1 Axes>"
      ]
     },
     "metadata": {},
     "output_type": "display_data"
    }
   ],
   "source": [
    "plots.scatter(housing_df['floor_size'],housing_df['sold_price'])\n",
    "xlims = np.array([1000, 5000])\n",
    "plots.plot(xlims, 94.66 * xlims + 25181.2, lw=2,color='red');"
   ]
  },
  {
   "cell_type": "code",
   "execution_count": 15,
   "metadata": {},
   "outputs": [],
   "source": [
    "def housing_mae(any_slope, any_intercept):\n",
    "    x = housing_df['floor_size']\n",
    "    y = housing_df['sold_price']\n",
    "    estimate = any_slope*x + any_intercept\n",
    "    return (np.mean(abs(y - estimate))) "
   ]
  },
  {
   "cell_type": "code",
   "execution_count": 16,
   "metadata": {},
   "outputs": [
    {
     "data": {
      "text/plain": [
       "array([   93.25631213, 12033.79941472])"
      ]
     },
     "execution_count": 16,
     "metadata": {},
     "output_type": "execute_result"
    }
   ],
   "source": [
    "minimize(housing_mae)"
   ]
  },
  {
   "cell_type": "code",
   "execution_count": 17,
   "metadata": {},
   "outputs": [
    {
     "data": {
      "image/png": "[encoded data removed]",
      "text/plain": [
       "<Figure size 432x288 with 1 Axes>"
      ]
     },
     "metadata": {},
     "output_type": "display_data"
    }
   ],
   "source": [
    "plots.scatter(housing_df['floor_size'],housing_df['sold_price'])\n",
    "xlims = np.array([1000, 5000])\n",
    "plots.plot(xlims, 94.66 * xlims + 25181.2, lw=2,color='red')\n",
    "plots.plot(xlims, 93.26 * xlims + 12033.8, lw=2,color='green');"
   ]
  },
  {
   "cell_type": "code",
   "execution_count": 18,
   "metadata": {},
   "outputs": [],
   "source": [
    "def housing_rse(any_slope, any_intercept):\n",
    "    x = housing_df['floor_size']\n",
    "    y = housing_df['sold_price']\n",
    "    estimate = any_slope*x + any_intercept\n",
    "    return (np.sum((y - estimate) ** 2)-np.max((y - estimate) ** 2)) "
   ]
  },
  {
   "cell_type": "code",
   "execution_count": 19,
   "metadata": {
    "scrolled": true
   },
   "outputs": [
    {
     "data": {
      "text/plain": [
       "array([   89.70182598, 35724.54691534])"
      ]
     },
     "execution_count": 19,
     "metadata": {},
     "output_type": "execute_result"
    }
   ],
   "source": [
    "minimize(housing_rse)"
   ]
  },
  {
   "cell_type": "code",
   "execution_count": 20,
   "metadata": {},
   "outputs": [
    {
     "data": {
      "image/png": "[encoded data removed]",
      "text/plain": [
       "<Figure size 432x288 with 1 Axes>"
      ]
     },
     "metadata": {},
     "output_type": "display_data"
    }
   ],
   "source": [
    "plots.scatter(housing_df['floor_size'],housing_df['sold_price'])\n",
    "xlims = np.array([1000, 5000])\n",
    "plots.plot(xlims, 94.66 * xlims + 25181.2, lw=2,color='red')\n",
    "plots.plot(xlims, 93.26 * xlims + 12033.8, lw=2,color='green')\n",
    "plots.plot(xlims, 89.70 * xlims + 37724.6, lw=2,color='black');\n"
   ]
  },
  {
   "cell_type": "markdown",
   "metadata": {},
   "source": [
    "## Functions that will implement these for any x and y"
   ]
  },
  {
   "cell_type": "code",
   "execution_count": 21,
   "metadata": {},
   "outputs": [
    {
     "data": {
      "text/plain": [
       "array([   94.6602687 , 25181.18907815])"
      ]
     },
     "execution_count": 21,
     "metadata": {},
     "output_type": "execute_result"
    }
   ],
   "source": [
    "def line_mse(x,y):\n",
    "    if len(x)!=len(y):\n",
    "        raise ValueError('arrays are of different lengths')\n",
    "    def mse(any_slope, any_intercept):\n",
    "        estimate = any_slope*x + any_intercept\n",
    "        return (np.mean((y - estimate) ** 2)) \n",
    "    return minimize(mse) \n",
    "\n",
    "line_mse(housing_df['floor_size'],housing_df['sold_price'])"
   ]
  },
  {
   "cell_type": "code",
   "execution_count": 22,
   "metadata": {},
   "outputs": [
    {
     "data": {
      "text/plain": [
       "array([   89.70182598, 35724.54691534])"
      ]
     },
     "execution_count": 22,
     "metadata": {},
     "output_type": "execute_result"
    }
   ],
   "source": [
    "def line_mae(x,y):\n",
    "    if len(x)!=len(y):\n",
    "        raise ValueError('arrays are of different lengths')\n",
    "    def mae(any_slope, any_intercept):\n",
    "        estimate = any_slope*x + any_intercept\n",
    "        return (np.mean(abs(y - estimate))) \n",
    "    return minimize(mae) \n",
    "\n",
    "def line_rse(x,y):\n",
    "    if len(x)!=len(y):\n",
    "        raise ValueError('arrays are of different lengths')\n",
    "    def rse(any_slope, any_intercept):\n",
    "        estimate = any_slope*x + any_intercept\n",
    "        return (np.sum((y - estimate) ** 2)-np.max((y - estimate) ** 2)) \n",
    "    return minimize(rse) \n",
    "\n",
    "line_rse(housing_df['floor_size'],housing_df['sold_price'])"
   ]
  },
  {
   "cell_type": "code",
   "execution_count": 23,
   "metadata": {
    "scrolled": true
   },
   "outputs": [
    {
     "data": {
      "image/png": "[encoded data removed]",
      "text/plain": [
       "<Figure size 432x288 with 1 Axes>"
      ]
     },
     "metadata": {},
     "output_type": "display_data"
    }
   ],
   "source": [
    "## this is the Dataset 3 (toy example) from Lecture 1\n",
    "x3=make_array(10,8,13,9,11,14,6,4,12,7,5)\n",
    "y3=make_array(7.46,6.77,12.76,7.11,7.81,8.84,6.08,5.36,8.15,6.42,5.73)\n",
    "plots.scatter(x3,y3);\n"
   ]
  },
  {
   "cell_type": "code",
   "execution_count": 24,
   "metadata": {
    "scrolled": true
   },
   "outputs": [
    {
     "data": {
      "text/plain": [
       "array([0.50181819, 2.98272724])"
      ]
     },
     "execution_count": 24,
     "metadata": {},
     "output_type": "execute_result"
    }
   ],
   "source": [
    "line_mse(x3,y3)"
   ]
  },
  {
   "cell_type": "code",
   "execution_count": 25,
   "metadata": {
    "scrolled": true
   },
   "outputs": [
    {
     "data": {
      "text/plain": [
       "array([0.33783502, 4.10633787])"
      ]
     },
     "execution_count": 25,
     "metadata": {},
     "output_type": "execute_result"
    }
   ],
   "source": [
    "line_rse(x3,y3)"
   ]
  },
  {
   "cell_type": "code",
   "execution_count": 26,
   "metadata": {},
   "outputs": [
    {
     "data": {
      "image/png": "[encoded data removed]",
      "text/plain": [
       "<Figure size 432x288 with 1 Axes>"
      ]
     },
     "metadata": {},
     "output_type": "display_data"
    }
   ],
   "source": [
    "plots.scatter(x3,y3)\n",
    "xlims = np.array([4,14])\n",
    "plots.plot(xlims, 0.502 * xlims + 2.98, lw=2,color='red')\n",
    "plots.plot(xlims, 0.338 * xlims + 4.11, lw=2,color='black');\n"
   ]
  },
  {
   "cell_type": "markdown",
   "metadata": {
    "collapsed": true
   },
   "source": [
    "## Galton Height Data\n",
    "\n",
    "Sir Francis Galton collected data from more than 900 children recording, among other things, their heights and the heights of their parents.\n",
    "\n",
    "He “transmuted” the heights of the girls and women in his data set, multiplying these heights by 1.08 and then formed a table of the heights of children versus the heights of their mid-parents (the average height of the father and transmuted mother)\n",
    "\n",
    "Any guesses on what the fitted line should look like?"
   ]
  },
  {
   "cell_type": "code",
   "execution_count": 27,
   "metadata": {},
   "outputs": [
    {
     "data": {
      "text/html": [
       "<div>\n",
       "<style scoped>\n",
       "    .dataframe tbody tr th:only-of-type {\n",
       "        vertical-align: middle;\n",
       "    }\n",
       "\n",
       "    .dataframe tbody tr th {\n",
       "        vertical-align: top;\n",
       "    }\n",
       "\n",
       "    .dataframe thead th {\n",
       "        text-align: right;\n",
       "    }\n",
       "</style>\n",
       "<table border=\"1\" class=\"dataframe\">\n",
       "  <thead>\n",
       "    <tr style=\"text-align: right;\">\n",
       "      <th></th>\n",
       "      <th>family</th>\n",
       "      <th>father</th>\n",
       "      <th>mother</th>\n",
       "      <th>midparentHeight</th>\n",
       "      <th>children</th>\n",
       "      <th>childNum</th>\n",
       "      <th>gender</th>\n",
       "      <th>childHeight</th>\n",
       "    </tr>\n",
       "  </thead>\n",
       "  <tbody>\n",
       "    <tr>\n",
       "      <th>0</th>\n",
       "      <td>1</td>\n",
       "      <td>78.5</td>\n",
       "      <td>67.0</td>\n",
       "      <td>75.43</td>\n",
       "      <td>4</td>\n",
       "      <td>1</td>\n",
       "      <td>male</td>\n",
       "      <td>73.2</td>\n",
       "    </tr>\n",
       "    <tr>\n",
       "      <th>1</th>\n",
       "      <td>1</td>\n",
       "      <td>78.5</td>\n",
       "      <td>67.0</td>\n",
       "      <td>75.43</td>\n",
       "      <td>4</td>\n",
       "      <td>2</td>\n",
       "      <td>female</td>\n",
       "      <td>69.2</td>\n",
       "    </tr>\n",
       "    <tr>\n",
       "      <th>2</th>\n",
       "      <td>1</td>\n",
       "      <td>78.5</td>\n",
       "      <td>67.0</td>\n",
       "      <td>75.43</td>\n",
       "      <td>4</td>\n",
       "      <td>3</td>\n",
       "      <td>female</td>\n",
       "      <td>69.0</td>\n",
       "    </tr>\n",
       "    <tr>\n",
       "      <th>3</th>\n",
       "      <td>1</td>\n",
       "      <td>78.5</td>\n",
       "      <td>67.0</td>\n",
       "      <td>75.43</td>\n",
       "      <td>4</td>\n",
       "      <td>4</td>\n",
       "      <td>female</td>\n",
       "      <td>69.0</td>\n",
       "    </tr>\n",
       "    <tr>\n",
       "      <th>4</th>\n",
       "      <td>2</td>\n",
       "      <td>75.5</td>\n",
       "      <td>66.5</td>\n",
       "      <td>73.66</td>\n",
       "      <td>4</td>\n",
       "      <td>1</td>\n",
       "      <td>male</td>\n",
       "      <td>73.5</td>\n",
       "    </tr>\n",
       "    <tr>\n",
       "      <th>5</th>\n",
       "      <td>2</td>\n",
       "      <td>75.5</td>\n",
       "      <td>66.5</td>\n",
       "      <td>73.66</td>\n",
       "      <td>4</td>\n",
       "      <td>2</td>\n",
       "      <td>male</td>\n",
       "      <td>72.5</td>\n",
       "    </tr>\n",
       "    <tr>\n",
       "      <th>6</th>\n",
       "      <td>2</td>\n",
       "      <td>75.5</td>\n",
       "      <td>66.5</td>\n",
       "      <td>73.66</td>\n",
       "      <td>4</td>\n",
       "      <td>3</td>\n",
       "      <td>female</td>\n",
       "      <td>65.5</td>\n",
       "    </tr>\n",
       "    <tr>\n",
       "      <th>7</th>\n",
       "      <td>2</td>\n",
       "      <td>75.5</td>\n",
       "      <td>66.5</td>\n",
       "      <td>73.66</td>\n",
       "      <td>4</td>\n",
       "      <td>4</td>\n",
       "      <td>female</td>\n",
       "      <td>65.5</td>\n",
       "    </tr>\n",
       "    <tr>\n",
       "      <th>8</th>\n",
       "      <td>3</td>\n",
       "      <td>75.0</td>\n",
       "      <td>64.0</td>\n",
       "      <td>72.06</td>\n",
       "      <td>2</td>\n",
       "      <td>1</td>\n",
       "      <td>male</td>\n",
       "      <td>71.0</td>\n",
       "    </tr>\n",
       "    <tr>\n",
       "      <th>9</th>\n",
       "      <td>3</td>\n",
       "      <td>75.0</td>\n",
       "      <td>64.0</td>\n",
       "      <td>72.06</td>\n",
       "      <td>2</td>\n",
       "      <td>2</td>\n",
       "      <td>female</td>\n",
       "      <td>68.0</td>\n",
       "    </tr>\n",
       "  </tbody>\n",
       "</table>\n",
       "</div>"
      ],
      "text/plain": [
       "  family  father  mother  midparentHeight  children  childNum  gender  \\\n",
       "0      1    78.5    67.0            75.43         4         1    male   \n",
       "1      1    78.5    67.0            75.43         4         2  female   \n",
       "2      1    78.5    67.0            75.43         4         3  female   \n",
       "3      1    78.5    67.0            75.43         4         4  female   \n",
       "4      2    75.5    66.5            73.66         4         1    male   \n",
       "5      2    75.5    66.5            73.66         4         2    male   \n",
       "6      2    75.5    66.5            73.66         4         3  female   \n",
       "7      2    75.5    66.5            73.66         4         4  female   \n",
       "8      3    75.0    64.0            72.06         2         1    male   \n",
       "9      3    75.0    64.0            72.06         2         2  female   \n",
       "\n",
       "   childHeight  \n",
       "0         73.2  \n",
       "1         69.2  \n",
       "2         69.0  \n",
       "3         69.0  \n",
       "4         73.5  \n",
       "5         72.5  \n",
       "6         65.5  \n",
       "7         65.5  \n",
       "8         71.0  \n",
       "9         68.0  "
      ]
     },
     "execution_count": 27,
     "metadata": {},
     "output_type": "execute_result"
    }
   ],
   "source": [
    "galton_df=pd.read_csv(\"galton.csv\")\n",
    "\n",
    "galton_df.head(10)"
   ]
  },
  {
   "cell_type": "code",
   "execution_count": 28,
   "metadata": {},
   "outputs": [
    {
     "data": {
      "text/plain": [
       "array([0.96399942, 0.03064211])"
      ]
     },
     "execution_count": 28,
     "metadata": {},
     "output_type": "execute_result"
    }
   ],
   "source": [
    "line_mse(galton_df['midparentHeight'],galton_df['childHeight'])"
   ]
  },
  {
   "cell_type": "code",
   "execution_count": 29,
   "metadata": {},
   "outputs": [
    {
     "data": {
      "text/plain": [
       "array([0.9606219, 0.1407247])"
      ]
     },
     "execution_count": 29,
     "metadata": {},
     "output_type": "execute_result"
    }
   ],
   "source": [
    "line_mae(galton_df['midparentHeight'],galton_df['childHeight'])"
   ]
  },
  {
   "cell_type": "code",
   "execution_count": 30,
   "metadata": {
    "scrolled": true
   },
   "outputs": [
    {
     "data": {
      "image/png": "[encoded data removed]",
      "text/plain": [
       "<Figure size 432x288 with 1 Axes>"
      ]
     },
     "metadata": {},
     "output_type": "display_data"
    }
   ],
   "source": [
    "# the MSE and MAE lines\n",
    "plots.scatter(galton_df['midparentHeight'],galton_df['childHeight'])\n",
    "xlims = np.array([64,76])\n",
    "plots.plot(xlims, 0.964 * xlims + 0.03, lw=2,color='red')\n",
    "plots.plot(xlims, 0.961 * xlims + 0.14, lw=2,color='black');"
   ]
  },
  {
   "cell_type": "code",
   "execution_count": 33,
   "metadata": {},
   "outputs": [
    {
     "data": {
      "text/plain": [
       "array([0.32094989, 0.        ])"
      ]
     },
     "execution_count": 33,
     "metadata": {},
     "output_type": "execute_result"
    }
   ],
   "source": [
    "# the regression (least squares) line on standard units\n",
    "line_mse(standard_units(galton_df['midparentHeight']),standard_units(galton_df['childHeight']))"
   ]
  },
  {
   "cell_type": "code",
   "execution_count": 34,
   "metadata": {},
   "outputs": [
    {
     "data": {
      "text/plain": [
       "0.32094989606395896"
      ]
     },
     "execution_count": 34,
     "metadata": {},
     "output_type": "execute_result"
    }
   ],
   "source": [
    "correlation(galton_df['midparentHeight'],galton_df['childHeight'])"
   ]
  },
  {
   "cell_type": "markdown",
   "metadata": {},
   "source": [
    "### Assymetry"
   ]
  },
  {
   "cell_type": "code",
   "execution_count": null,
   "metadata": {},
   "outputs": [],
   "source": [
    "# Simulated data with correlation r\n",
    "r = 0.5\n",
    "x_demo = np.random.normal(0, 1, 10000)\n",
    "z_demo = np.random.normal(0, 1, 10000)\n",
    "y_demo = r*x_demo + np.sqrt(1 - r**2)*z_demo\n",
    "\n",
    "line_mse(x_demo,y_demo)"
   ]
  },
  {
   "cell_type": "code",
   "execution_count": null,
   "metadata": {},
   "outputs": [],
   "source": [
    "plots.figure(figsize=(7,7))\n",
    "plots.xlim(-4, 4)\n",
    "plots.ylim(-4, 4)\n",
    "plots.scatter(x_demo, y_demo, s=10)\n",
    "plots.plot([-4,4],[-4,4], color='red', lw=2)\n",
    "xlims = np.array([-4,4])\n",
    "plots.plot(xlims, 0.5 * xlims + 0.0, lw=2,color='black')\n",
    "plots.xlabel('x in standard units')\n",
    "plots.ylabel('y in standard units');"
   ]
  }
 ],
 "metadata": {
  "anaconda-cloud": {},
  "kernelspec": {
   "display_name": "Python 3",
   "language": "python",
   "name": "python3"
  },
  "language_info": {
   "codemirror_mode": {
    "name": "ipython",
    "version": 3
   },
   "file_extension": ".py",
   "mimetype": "text/x-python",
   "name": "python",
   "nbconvert_exporter": "python",
   "pygments_lexer": "ipython3",
   "version": "3.7.0"
  }
 },
 "nbformat": 4,
 "nbformat_minor": 1
}
